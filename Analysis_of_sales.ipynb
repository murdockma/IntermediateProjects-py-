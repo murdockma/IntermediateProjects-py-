{
 "cells": [
  {
   "cell_type": "markdown",
   "id": "92bb7d71",
   "metadata": {},
   "source": [
    "##### Business Sales Analysis"
   ]
  },
  {
   "cell_type": "code",
   "execution_count": 132,
   "id": "796653a8",
   "metadata": {},
   "outputs": [],
   "source": [
    "import pandas as pd\n",
    "import os"
   ]
  },
  {
   "cell_type": "code",
   "execution_count": 5,
   "id": "6976ad98",
   "metadata": {
    "collapsed": true
   },
   "outputs": [
    {
     "name": "stdout",
     "output_type": "stream",
     "text": [
      "Sales_December_2019.csv\n",
      "Sales_April_2019.csv\n",
      "Sales_February_2019.csv\n",
      "Sales_March_2019.csv\n",
      "Sales_August_2019.csv\n",
      "Sales_May_2019.csv\n",
      "Sales_November_2019.csv\n",
      "Sales_October_2019.csv\n",
      "Sales_January_2019.csv\n",
      "Sales_September_2019.csv\n",
      "Sales_July_2019.csv\n",
      "Sales_June_2019.csv\n"
     ]
    }
   ],
   "source": [
    "path = \"./Sales_Data\"\n",
    "files = [file for file in os.listdir(path) if not file.startswith('.')] # Ignore hidden files\n",
    "\n",
    "all_months_data = pd.DataFrame()\n",
    "\n",
    "for file in files:\n",
    "    print(file)\n",
    "    current_data = pd.read_csv(path+\"/\"+file)\n",
    "    all_months_data = pd.concat([all_months_data, current_data])\n",
    "    \n",
    "all_months_data.to_csv(\"all_data_copy.csv\", index=False)\n",
    "\n",
    "### merging all files into one csv\n",
    "\n",
    "#### copied directly from vid source"
   ]
  },
  {
   "cell_type": "code",
   "execution_count": 173,
   "id": "9e536225",
   "metadata": {
    "collapsed": true
   },
   "outputs": [
    {
     "data": {
      "text/html": [
       "<div>\n",
       "<style scoped>\n",
       "    .dataframe tbody tr th:only-of-type {\n",
       "        vertical-align: middle;\n",
       "    }\n",
       "\n",
       "    .dataframe tbody tr th {\n",
       "        vertical-align: top;\n",
       "    }\n",
       "\n",
       "    .dataframe thead th {\n",
       "        text-align: right;\n",
       "    }\n",
       "</style>\n",
       "<table border=\"1\" class=\"dataframe\">\n",
       "  <thead>\n",
       "    <tr style=\"text-align: right;\">\n",
       "      <th></th>\n",
       "      <th>Order ID</th>\n",
       "      <th>Product</th>\n",
       "      <th>Quantity Ordered</th>\n",
       "      <th>Price Each</th>\n",
       "      <th>Order Date</th>\n",
       "      <th>Purchase Address</th>\n",
       "    </tr>\n",
       "  </thead>\n",
       "  <tbody>\n",
       "    <tr>\n",
       "      <th>0</th>\n",
       "      <td>295665</td>\n",
       "      <td>Macbook Pro Laptop</td>\n",
       "      <td>1</td>\n",
       "      <td>1700</td>\n",
       "      <td>12/30/19 00:01</td>\n",
       "      <td>136 Church St, New York City, NY 10001</td>\n",
       "    </tr>\n",
       "    <tr>\n",
       "      <th>1</th>\n",
       "      <td>295666</td>\n",
       "      <td>LG Washing Machine</td>\n",
       "      <td>1</td>\n",
       "      <td>600.0</td>\n",
       "      <td>12/29/19 07:03</td>\n",
       "      <td>562 2nd St, New York City, NY 10001</td>\n",
       "    </tr>\n",
       "    <tr>\n",
       "      <th>2</th>\n",
       "      <td>295667</td>\n",
       "      <td>USB-C Charging Cable</td>\n",
       "      <td>1</td>\n",
       "      <td>11.95</td>\n",
       "      <td>12/12/19 18:21</td>\n",
       "      <td>277 Main St, New York City, NY 10001</td>\n",
       "    </tr>\n",
       "    <tr>\n",
       "      <th>3</th>\n",
       "      <td>295668</td>\n",
       "      <td>27in FHD Monitor</td>\n",
       "      <td>1</td>\n",
       "      <td>149.99</td>\n",
       "      <td>12/22/19 15:13</td>\n",
       "      <td>410 6th St, San Francisco, CA 94016</td>\n",
       "    </tr>\n",
       "    <tr>\n",
       "      <th>4</th>\n",
       "      <td>295669</td>\n",
       "      <td>USB-C Charging Cable</td>\n",
       "      <td>1</td>\n",
       "      <td>11.95</td>\n",
       "      <td>12/18/19 12:38</td>\n",
       "      <td>43 Hill St, Atlanta, GA 30301</td>\n",
       "    </tr>\n",
       "    <tr>\n",
       "      <th>...</th>\n",
       "      <td>...</td>\n",
       "      <td>...</td>\n",
       "      <td>...</td>\n",
       "      <td>...</td>\n",
       "      <td>...</td>\n",
       "      <td>...</td>\n",
       "    </tr>\n",
       "    <tr>\n",
       "      <th>186845</th>\n",
       "      <td>222905</td>\n",
       "      <td>AAA Batteries (4-pack)</td>\n",
       "      <td>1</td>\n",
       "      <td>2.99</td>\n",
       "      <td>06/07/19 19:02</td>\n",
       "      <td>795 Pine St, Boston, MA 02215</td>\n",
       "    </tr>\n",
       "    <tr>\n",
       "      <th>186846</th>\n",
       "      <td>222906</td>\n",
       "      <td>27in FHD Monitor</td>\n",
       "      <td>1</td>\n",
       "      <td>149.99</td>\n",
       "      <td>06/01/19 19:29</td>\n",
       "      <td>495 North St, New York City, NY 10001</td>\n",
       "    </tr>\n",
       "    <tr>\n",
       "      <th>186847</th>\n",
       "      <td>222907</td>\n",
       "      <td>USB-C Charging Cable</td>\n",
       "      <td>1</td>\n",
       "      <td>11.95</td>\n",
       "      <td>06/22/19 18:57</td>\n",
       "      <td>319 Ridge St, San Francisco, CA 94016</td>\n",
       "    </tr>\n",
       "    <tr>\n",
       "      <th>186848</th>\n",
       "      <td>222908</td>\n",
       "      <td>USB-C Charging Cable</td>\n",
       "      <td>1</td>\n",
       "      <td>11.95</td>\n",
       "      <td>06/26/19 18:35</td>\n",
       "      <td>916 Main St, San Francisco, CA 94016</td>\n",
       "    </tr>\n",
       "    <tr>\n",
       "      <th>186849</th>\n",
       "      <td>222909</td>\n",
       "      <td>AAA Batteries (4-pack)</td>\n",
       "      <td>1</td>\n",
       "      <td>2.99</td>\n",
       "      <td>06/25/19 14:33</td>\n",
       "      <td>209 11th St, Atlanta, GA 30301</td>\n",
       "    </tr>\n",
       "  </tbody>\n",
       "</table>\n",
       "<p>186850 rows × 6 columns</p>\n",
       "</div>"
      ],
      "text/plain": [
       "       Order ID                 Product Quantity Ordered Price Each  \\\n",
       "0        295665      Macbook Pro Laptop                1       1700   \n",
       "1        295666      LG Washing Machine                1      600.0   \n",
       "2        295667    USB-C Charging Cable                1      11.95   \n",
       "3        295668        27in FHD Monitor                1     149.99   \n",
       "4        295669    USB-C Charging Cable                1      11.95   \n",
       "...         ...                     ...              ...        ...   \n",
       "186845   222905  AAA Batteries (4-pack)                1       2.99   \n",
       "186846   222906        27in FHD Monitor                1     149.99   \n",
       "186847   222907    USB-C Charging Cable                1      11.95   \n",
       "186848   222908    USB-C Charging Cable                1      11.95   \n",
       "186849   222909  AAA Batteries (4-pack)                1       2.99   \n",
       "\n",
       "            Order Date                        Purchase Address  \n",
       "0       12/30/19 00:01  136 Church St, New York City, NY 10001  \n",
       "1       12/29/19 07:03     562 2nd St, New York City, NY 10001  \n",
       "2       12/12/19 18:21    277 Main St, New York City, NY 10001  \n",
       "3       12/22/19 15:13     410 6th St, San Francisco, CA 94016  \n",
       "4       12/18/19 12:38           43 Hill St, Atlanta, GA 30301  \n",
       "...                ...                                     ...  \n",
       "186845  06/07/19 19:02           795 Pine St, Boston, MA 02215  \n",
       "186846  06/01/19 19:29   495 North St, New York City, NY 10001  \n",
       "186847  06/22/19 18:57   319 Ridge St, San Francisco, CA 94016  \n",
       "186848  06/26/19 18:35    916 Main St, San Francisco, CA 94016  \n",
       "186849  06/25/19 14:33          209 11th St, Atlanta, GA 30301  \n",
       "\n",
       "[186850 rows x 6 columns]"
      ]
     },
     "execution_count": 173,
     "metadata": {},
     "output_type": "execute_result"
    }
   ],
   "source": [
    "## reading in new file\n",
    "\n",
    "df=pd.read_csv(\"all_data_copy.csv\")\n",
    "\n",
    "df"
   ]
  },
  {
   "cell_type": "markdown",
   "id": "c2526f49",
   "metadata": {},
   "source": [
    "#### Best month for sales? How much earned in that month?"
   ]
  },
  {
   "cell_type": "code",
   "execution_count": 204,
   "id": "2a4ed41b",
   "metadata": {},
   "outputs": [],
   "source": [
    "df=df[df['Quantity Ordered']!='Quantity Ordered']\n",
    "\n",
    "df = df.dropna(how='all')"
   ]
  },
  {
   "cell_type": "code",
   "execution_count": 205,
   "id": "8348e038",
   "metadata": {},
   "outputs": [],
   "source": [
    "df['Quantity Ordered']=pd.to_numeric(df['Quantity Ordered'])\n",
    "df['Price Each']=pd.to_numeric(df['Price Each'])\n",
    "\n",
    "df['Sales']=df['Quantity Ordered']*df['Price Each']\n",
    "\n",
    "df['Month']=df['Order Date'].str[:2]"
   ]
  },
  {
   "cell_type": "code",
   "execution_count": 206,
   "id": "18ce3c27",
   "metadata": {
    "collapsed": true
   },
   "outputs": [
    {
     "data": {
      "text/html": [
       "<div>\n",
       "<style scoped>\n",
       "    .dataframe tbody tr th:only-of-type {\n",
       "        vertical-align: middle;\n",
       "    }\n",
       "\n",
       "    .dataframe tbody tr th {\n",
       "        vertical-align: top;\n",
       "    }\n",
       "\n",
       "    .dataframe thead th {\n",
       "        text-align: right;\n",
       "    }\n",
       "</style>\n",
       "<table border=\"1\" class=\"dataframe\">\n",
       "  <thead>\n",
       "    <tr style=\"text-align: right;\">\n",
       "      <th></th>\n",
       "      <th>Sales</th>\n",
       "    </tr>\n",
       "    <tr>\n",
       "      <th>Month</th>\n",
       "      <th></th>\n",
       "    </tr>\n",
       "  </thead>\n",
       "  <tbody>\n",
       "    <tr>\n",
       "      <th>12</th>\n",
       "      <td>4613443.34</td>\n",
       "    </tr>\n",
       "    <tr>\n",
       "      <th>10</th>\n",
       "      <td>3736726.88</td>\n",
       "    </tr>\n",
       "    <tr>\n",
       "      <th>04</th>\n",
       "      <td>3390670.24</td>\n",
       "    </tr>\n",
       "    <tr>\n",
       "      <th>11</th>\n",
       "      <td>3199603.20</td>\n",
       "    </tr>\n",
       "    <tr>\n",
       "      <th>05</th>\n",
       "      <td>3152606.75</td>\n",
       "    </tr>\n",
       "    <tr>\n",
       "      <th>03</th>\n",
       "      <td>2807100.38</td>\n",
       "    </tr>\n",
       "    <tr>\n",
       "      <th>07</th>\n",
       "      <td>2647775.76</td>\n",
       "    </tr>\n",
       "    <tr>\n",
       "      <th>06</th>\n",
       "      <td>2577802.26</td>\n",
       "    </tr>\n",
       "    <tr>\n",
       "      <th>08</th>\n",
       "      <td>2244467.88</td>\n",
       "    </tr>\n",
       "    <tr>\n",
       "      <th>02</th>\n",
       "      <td>2202022.42</td>\n",
       "    </tr>\n",
       "    <tr>\n",
       "      <th>09</th>\n",
       "      <td>2097560.13</td>\n",
       "    </tr>\n",
       "    <tr>\n",
       "      <th>01</th>\n",
       "      <td>1822256.73</td>\n",
       "    </tr>\n",
       "  </tbody>\n",
       "</table>\n",
       "</div>"
      ],
      "text/plain": [
       "            Sales\n",
       "Month            \n",
       "12     4613443.34\n",
       "10     3736726.88\n",
       "04     3390670.24\n",
       "11     3199603.20\n",
       "05     3152606.75\n",
       "03     2807100.38\n",
       "07     2647775.76\n",
       "06     2577802.26\n",
       "08     2244467.88\n",
       "02     2202022.42\n",
       "09     2097560.13\n",
       "01     1822256.73"
      ]
     },
     "execution_count": 206,
     "metadata": {},
     "output_type": "execute_result"
    }
   ],
   "source": [
    "monthly_sales = df.groupby('Month').agg({'Sales':sum})\n",
    "monthly_sales.sort_values(by='Sales',ascending=False)\n",
    "## month 12 generated most revenue (4.6 mil), followed by month 10, and so on..."
   ]
  },
  {
   "cell_type": "markdown",
   "id": "720a42e4",
   "metadata": {},
   "source": [
    "#### Plotting monthly sales"
   ]
  },
  {
   "cell_type": "code",
   "execution_count": 207,
   "id": "f6f9712d",
   "metadata": {},
   "outputs": [
    {
     "data": {
      "text/plain": [
       "<AxesSubplot:xlabel='Month'>"
      ]
     },
     "execution_count": 207,
     "metadata": {},
     "output_type": "execute_result"
    },
    {
     "data": {
      "image/png": "[encoded data removed]",
      "text/plain": [
       "<Figure size 432x288 with 1 Axes>"
      ]
     },
     "metadata": {
      "needs_background": "light"
     },
     "output_type": "display_data"
    }
   ],
   "source": [
    "sb.lineplot(data=monthly_sales)"
   ]
  },
  {
   "cell_type": "markdown",
   "id": "c92c4dca",
   "metadata": {},
   "source": [
    "##### City with highest number of sales"
   ]
  },
  {
   "cell_type": "code",
   "execution_count": 208,
   "id": "40d5d4ce",
   "metadata": {},
   "outputs": [
    {
     "data": {
      "text/html": [
       "<div>\n",
       "<style scoped>\n",
       "    .dataframe tbody tr th:only-of-type {\n",
       "        vertical-align: middle;\n",
       "    }\n",
       "\n",
       "    .dataframe tbody tr th {\n",
       "        vertical-align: top;\n",
       "    }\n",
       "\n",
       "    .dataframe thead th {\n",
       "        text-align: right;\n",
       "    }\n",
       "</style>\n",
       "<table border=\"1\" class=\"dataframe\">\n",
       "  <thead>\n",
       "    <tr style=\"text-align: right;\">\n",
       "      <th></th>\n",
       "      <th>Sales</th>\n",
       "    </tr>\n",
       "    <tr>\n",
       "      <th>City</th>\n",
       "      <th></th>\n",
       "    </tr>\n",
       "  </thead>\n",
       "  <tbody>\n",
       "    <tr>\n",
       "      <th>San Francisco, CA</th>\n",
       "      <td>8262203.91</td>\n",
       "    </tr>\n",
       "    <tr>\n",
       "      <th>Los Angeles, CA</th>\n",
       "      <td>5452570.80</td>\n",
       "    </tr>\n",
       "    <tr>\n",
       "      <th>New York City, NY</th>\n",
       "      <td>4664317.43</td>\n",
       "    </tr>\n",
       "    <tr>\n",
       "      <th>Boston, MA</th>\n",
       "      <td>3661642.01</td>\n",
       "    </tr>\n",
       "    <tr>\n",
       "      <th>Atlanta, GA</th>\n",
       "      <td>2795498.58</td>\n",
       "    </tr>\n",
       "    <tr>\n",
       "      <th>Dallas, TX</th>\n",
       "      <td>2767975.40</td>\n",
       "    </tr>\n",
       "    <tr>\n",
       "      <th>Seattle, WA</th>\n",
       "      <td>2747755.48</td>\n",
       "    </tr>\n",
       "    <tr>\n",
       "      <th>Portland, OR</th>\n",
       "      <td>1870732.34</td>\n",
       "    </tr>\n",
       "    <tr>\n",
       "      <th>Austin, TX</th>\n",
       "      <td>1819581.75</td>\n",
       "    </tr>\n",
       "    <tr>\n",
       "      <th>Portland, ME</th>\n",
       "      <td>449758.27</td>\n",
       "    </tr>\n",
       "  </tbody>\n",
       "</table>\n",
       "</div>"
      ],
      "text/plain": [
       "                         Sales\n",
       "City                          \n",
       " San Francisco, CA  8262203.91\n",
       " Los Angeles, CA    5452570.80\n",
       " New York City, NY  4664317.43\n",
       " Boston, MA         3661642.01\n",
       " Atlanta, GA        2795498.58\n",
       " Dallas, TX         2767975.40\n",
       " Seattle, WA        2747755.48\n",
       " Portland, OR       1870732.34\n",
       " Austin, TX         1819581.75\n",
       " Portland, ME        449758.27"
      ]
     },
     "execution_count": 208,
     "metadata": {},
     "output_type": "execute_result"
    }
   ],
   "source": [
    "df['City']=df['Purchase Address'].str.split(',').str[1]+','+df['Purchase Address'].str.split(',').str[2].str[:3]\n",
    "\n",
    "city_sales = df.groupby(\"City\").agg({\"Sales\":sum})\n",
    "\n",
    "city_sales.sort_values(by='Sales',ascending=False)\n",
    "\n",
    "# san fran with the highest number of sales"
   ]
  },
  {
   "cell_type": "markdown",
   "id": "3536d6fc",
   "metadata": {},
   "source": [
    "##### Plotting sales across cities"
   ]
  },
  {
   "cell_type": "code",
   "execution_count": 209,
   "id": "a19ebb78",
   "metadata": {},
   "outputs": [
    {
     "data": {
      "text/plain": [
       "<AxesSubplot:title={'center':'Sales across each city'}, xlabel='City', ylabel='Sales'>"
      ]
     },
     "execution_count": 209,
     "metadata": {},
     "output_type": "execute_result"
    },
    {
     "data": {
      "image/png": "[encoded data removed]",
      "text/plain": [
       "<Figure size 432x288 with 1 Axes>"
      ]
     },
     "metadata": {
      "needs_background": "light"
     },
     "output_type": "display_data"
    }
   ],
   "source": [
    "plt.xticks(rotation=80)\n",
    "plt.title(\"Sales across each city\")\n",
    "sb.lineplot(data=city_sales,x='City',y='Sales',color='orange')"
   ]
  },
  {
   "cell_type": "markdown",
   "id": "d007f77d",
   "metadata": {},
   "source": [
    "###### What time should advertisements be displayed to maximize likelihood of customer's buying product?"
   ]
  },
  {
   "cell_type": "code",
   "execution_count": 140,
   "id": "f8209308",
   "metadata": {},
   "outputs": [
    {
     "data": {
      "text/html": [
       "<div>\n",
       "<style scoped>\n",
       "    .dataframe tbody tr th:only-of-type {\n",
       "        vertical-align: middle;\n",
       "    }\n",
       "\n",
       "    .dataframe tbody tr th {\n",
       "        vertical-align: top;\n",
       "    }\n",
       "\n",
       "    .dataframe thead th {\n",
       "        text-align: right;\n",
       "    }\n",
       "</style>\n",
       "<table border=\"1\" class=\"dataframe\">\n",
       "  <thead>\n",
       "    <tr style=\"text-align: right;\">\n",
       "      <th></th>\n",
       "      <th>Order ID</th>\n",
       "      <th>Product</th>\n",
       "      <th>Quantity Ordered</th>\n",
       "      <th>Price Each</th>\n",
       "      <th>Order Date</th>\n",
       "      <th>Purchase Address</th>\n",
       "      <th>Sales</th>\n",
       "      <th>Month</th>\n",
       "      <th>City</th>\n",
       "    </tr>\n",
       "  </thead>\n",
       "  <tbody>\n",
       "    <tr>\n",
       "      <th>0</th>\n",
       "      <td>295665</td>\n",
       "      <td>Macbook Pro Laptop</td>\n",
       "      <td>1</td>\n",
       "      <td>1700.00</td>\n",
       "      <td>12/30/19 00:01</td>\n",
       "      <td>136 Church St, New York City, NY 10001</td>\n",
       "      <td>1700.00</td>\n",
       "      <td>12</td>\n",
       "      <td>New York City, NY</td>\n",
       "    </tr>\n",
       "    <tr>\n",
       "      <th>1</th>\n",
       "      <td>295666</td>\n",
       "      <td>LG Washing Machine</td>\n",
       "      <td>1</td>\n",
       "      <td>600.00</td>\n",
       "      <td>12/29/19 07:03</td>\n",
       "      <td>562 2nd St, New York City, NY 10001</td>\n",
       "      <td>600.00</td>\n",
       "      <td>12</td>\n",
       "      <td>New York City, NY</td>\n",
       "    </tr>\n",
       "    <tr>\n",
       "      <th>2</th>\n",
       "      <td>295667</td>\n",
       "      <td>USB-C Charging Cable</td>\n",
       "      <td>1</td>\n",
       "      <td>11.95</td>\n",
       "      <td>12/12/19 18:21</td>\n",
       "      <td>277 Main St, New York City, NY 10001</td>\n",
       "      <td>11.95</td>\n",
       "      <td>12</td>\n",
       "      <td>New York City, NY</td>\n",
       "    </tr>\n",
       "    <tr>\n",
       "      <th>3</th>\n",
       "      <td>295668</td>\n",
       "      <td>27in FHD Monitor</td>\n",
       "      <td>1</td>\n",
       "      <td>149.99</td>\n",
       "      <td>12/22/19 15:13</td>\n",
       "      <td>410 6th St, San Francisco, CA 94016</td>\n",
       "      <td>149.99</td>\n",
       "      <td>12</td>\n",
       "      <td>San Francisco, CA</td>\n",
       "    </tr>\n",
       "    <tr>\n",
       "      <th>4</th>\n",
       "      <td>295669</td>\n",
       "      <td>USB-C Charging Cable</td>\n",
       "      <td>1</td>\n",
       "      <td>11.95</td>\n",
       "      <td>12/18/19 12:38</td>\n",
       "      <td>43 Hill St, Atlanta, GA 30301</td>\n",
       "      <td>11.95</td>\n",
       "      <td>12</td>\n",
       "      <td>Atlanta, GA</td>\n",
       "    </tr>\n",
       "  </tbody>\n",
       "</table>\n",
       "</div>"
      ],
      "text/plain": [
       "  Order ID               Product  Quantity Ordered  Price Each  \\\n",
       "0   295665    Macbook Pro Laptop                 1     1700.00   \n",
       "1   295666    LG Washing Machine                 1      600.00   \n",
       "2   295667  USB-C Charging Cable                 1       11.95   \n",
       "3   295668      27in FHD Monitor                 1      149.99   \n",
       "4   295669  USB-C Charging Cable                 1       11.95   \n",
       "\n",
       "       Order Date                        Purchase Address    Sales Month  \\\n",
       "0  12/30/19 00:01  136 Church St, New York City, NY 10001  1700.00    12   \n",
       "1  12/29/19 07:03     562 2nd St, New York City, NY 10001   600.00    12   \n",
       "2  12/12/19 18:21    277 Main St, New York City, NY 10001    11.95    12   \n",
       "3  12/22/19 15:13     410 6th St, San Francisco, CA 94016   149.99    12   \n",
       "4  12/18/19 12:38           43 Hill St, Atlanta, GA 30301    11.95    12   \n",
       "\n",
       "                 City  \n",
       "0   New York City, NY  \n",
       "1   New York City, NY  \n",
       "2   New York City, NY  \n",
       "3   San Francisco, CA  \n",
       "4         Atlanta, GA  "
      ]
     },
     "execution_count": 140,
     "metadata": {},
     "output_type": "execute_result"
    }
   ],
   "source": [
    "df.head()"
   ]
  },
  {
   "cell_type": "code",
   "execution_count": 210,
   "id": "1c5ae958",
   "metadata": {},
   "outputs": [],
   "source": [
    "df['Order Date'] = pd.to_datetime(df['Order Date'])"
   ]
  },
  {
   "cell_type": "code",
   "execution_count": 211,
   "id": "57381fc3",
   "metadata": {},
   "outputs": [
    {
     "data": {
      "text/plain": [
       "<AxesSubplot:title={'center':'# of Orders Per Hour'}, xlabel='Hour', ylabel='# of orders'>"
      ]
     },
     "execution_count": 211,
     "metadata": {},
     "output_type": "execute_result"
    },
    {
     "data": {
      "image/png": "[encoded data removed]",
      "text/plain": [
       "<Figure size 432x288 with 1 Axes>"
      ]
     },
     "metadata": {
      "needs_background": "light"
     },
     "output_type": "display_data"
    }
   ],
   "source": [
    "df['Hour'] = df['Order Date'].dt.hour\n",
    "df['Minute'] = df['Order Date'].dt.minute\n",
    "hour_sales=df.groupby(\"Hour\").agg({'Sales':sum}).astype(float)\n",
    "\n",
    "plt.grid()\n",
    "plt.ylabel(\"# of orders\")\n",
    "plt.title('# of Orders Per Hour')\n",
    "plt.xticks(df['Hour'].unique())\n",
    "sb.lineplot(data=hour_sales)\n",
    "\n",
    "## 11am ish and 7pm ish"
   ]
  },
  {
   "cell_type": "markdown",
   "id": "febfa206",
   "metadata": {},
   "source": [
    "##### Products most often sold together?"
   ]
  },
  {
   "cell_type": "code",
   "execution_count": 212,
   "id": "2eae2cde",
   "metadata": {
    "collapsed": true
   },
   "outputs": [
    {
     "name": "stderr",
     "output_type": "stream",
     "text": [
      "/var/folders/2f/4gyn_p7s1570k6cpzp2c3jb00000gn/T/ipykernel_79585/2990825383.py:8: SettingWithCopyWarning: \n",
      "A value is trying to be set on a copy of a slice from a DataFrame.\n",
      "Try using .loc[row_indexer,col_indexer] = value instead\n",
      "\n",
      "See the caveats in the documentation: https://pandas.pydata.org/pandas-docs/stable/user_guide/indexing.html#returning-a-view-versus-a-copy\n",
      "  df_['Products'] = df_.groupby(\"Order ID\")['Product'].transform(lambda i: ','.join(i))\n"
     ]
    },
    {
     "data": {
      "text/html": [
       "<div>\n",
       "<style scoped>\n",
       "    .dataframe tbody tr th:only-of-type {\n",
       "        vertical-align: middle;\n",
       "    }\n",
       "\n",
       "    .dataframe tbody tr th {\n",
       "        vertical-align: top;\n",
       "    }\n",
       "\n",
       "    .dataframe thead th {\n",
       "        text-align: right;\n",
       "    }\n",
       "</style>\n",
       "<table border=\"1\" class=\"dataframe\">\n",
       "  <thead>\n",
       "    <tr style=\"text-align: right;\">\n",
       "      <th></th>\n",
       "      <th>Order ID</th>\n",
       "      <th>Products</th>\n",
       "    </tr>\n",
       "  </thead>\n",
       "  <tbody>\n",
       "    <tr>\n",
       "      <th>16</th>\n",
       "      <td>295681</td>\n",
       "      <td>Google Phone,USB-C Charging Cable,Bose SoundSp...</td>\n",
       "    </tr>\n",
       "    <tr>\n",
       "      <th>36</th>\n",
       "      <td>295698</td>\n",
       "      <td>Vareebadd Phone,USB-C Charging Cable</td>\n",
       "    </tr>\n",
       "    <tr>\n",
       "      <th>42</th>\n",
       "      <td>295703</td>\n",
       "      <td>AA Batteries (4-pack),Bose SoundSport Headphones</td>\n",
       "    </tr>\n",
       "    <tr>\n",
       "      <th>66</th>\n",
       "      <td>295726</td>\n",
       "      <td>iPhone,Lightning Charging Cable</td>\n",
       "    </tr>\n",
       "    <tr>\n",
       "      <th>76</th>\n",
       "      <td>295735</td>\n",
       "      <td>iPhone,Apple Airpods Headphones,Wired Headphones</td>\n",
       "    </tr>\n",
       "    <tr>\n",
       "      <th>...</th>\n",
       "      <td>...</td>\n",
       "      <td>...</td>\n",
       "    </tr>\n",
       "    <tr>\n",
       "      <th>186798</th>\n",
       "      <td>222863</td>\n",
       "      <td>27in FHD Monitor,Bose SoundSport Headphones</td>\n",
       "    </tr>\n",
       "    <tr>\n",
       "      <th>186804</th>\n",
       "      <td>222868</td>\n",
       "      <td>iPhone,Apple Airpods Headphones</td>\n",
       "    </tr>\n",
       "    <tr>\n",
       "      <th>186819</th>\n",
       "      <td>222882</td>\n",
       "      <td>Apple Airpods Headphones,AA Batteries (4-pack)</td>\n",
       "    </tr>\n",
       "    <tr>\n",
       "      <th>186822</th>\n",
       "      <td>222884</td>\n",
       "      <td>Google Phone,USB-C Charging Cable</td>\n",
       "    </tr>\n",
       "    <tr>\n",
       "      <th>186842</th>\n",
       "      <td>222903</td>\n",
       "      <td>iPhone,Lightning Charging Cable</td>\n",
       "    </tr>\n",
       "  </tbody>\n",
       "</table>\n",
       "<p>7136 rows × 2 columns</p>\n",
       "</div>"
      ],
      "text/plain": [
       "       Order ID                                           Products\n",
       "16       295681  Google Phone,USB-C Charging Cable,Bose SoundSp...\n",
       "36       295698               Vareebadd Phone,USB-C Charging Cable\n",
       "42       295703   AA Batteries (4-pack),Bose SoundSport Headphones\n",
       "66       295726                    iPhone,Lightning Charging Cable\n",
       "76       295735   iPhone,Apple Airpods Headphones,Wired Headphones\n",
       "...         ...                                                ...\n",
       "186798   222863        27in FHD Monitor,Bose SoundSport Headphones\n",
       "186804   222868                    iPhone,Apple Airpods Headphones\n",
       "186819   222882     Apple Airpods Headphones,AA Batteries (4-pack)\n",
       "186822   222884                  Google Phone,USB-C Charging Cable\n",
       "186842   222903                    iPhone,Lightning Charging Cable\n",
       "\n",
       "[7136 rows x 2 columns]"
      ]
     },
     "execution_count": 212,
     "metadata": {},
     "output_type": "execute_result"
    }
   ],
   "source": [
    "# _ = df.groupby(\"Order ID\").count()\n",
    "\n",
    "# _.sort_values('Product',ascending=False)\n",
    "\n",
    "\n",
    "df_ = df[df['Order ID'].duplicated(keep=False)]\n",
    "\n",
    "df_['Products'] = df_.groupby(\"Order ID\")['Product'].transform(lambda i: ','.join(i)) \n",
    "\n",
    "df_ = df_[[\"Order ID\", \"Products\"]].drop_duplicates() # mutiple rows of same instance (for individual products)\n",
    "\n",
    "df_\n",
    "\n",
    "## copied from vid source, getting all products into one column, dropping dupes"
   ]
  },
  {
   "cell_type": "code",
   "execution_count": 213,
   "id": "40167f45",
   "metadata": {},
   "outputs": [
    {
     "data": {
      "text/html": [
       "<div>\n",
       "<style scoped>\n",
       "    .dataframe tbody tr th:only-of-type {\n",
       "        vertical-align: middle;\n",
       "    }\n",
       "\n",
       "    .dataframe tbody tr th {\n",
       "        vertical-align: top;\n",
       "    }\n",
       "\n",
       "    .dataframe thead th {\n",
       "        text-align: right;\n",
       "    }\n",
       "</style>\n",
       "<table border=\"1\" class=\"dataframe\">\n",
       "  <thead>\n",
       "    <tr style=\"text-align: right;\">\n",
       "      <th></th>\n",
       "      <th>Google Phone,USB-C Charging Cable,Bose SoundSport Headphones,Wired Headphones</th>\n",
       "      <th>Vareebadd Phone,USB-C Charging Cable</th>\n",
       "      <th>AA Batteries (4-pack),Bose SoundSport Headphones</th>\n",
       "      <th>iPhone,Lightning Charging Cable</th>\n",
       "      <th>iPhone,Apple Airpods Headphones,Wired Headphones</th>\n",
       "      <th>34in Ultrawide Monitor,Lightning Charging Cable</th>\n",
       "      <th>Bose SoundSport Headphones,Wired Headphones</th>\n",
       "      <th>USB-C Charging Cable,Apple Airpods Headphones</th>\n",
       "      <th>Google Phone,USB-C Charging Cable</th>\n",
       "      <th>USB-C Charging Cable,20in Monitor</th>\n",
       "      <th>...</th>\n",
       "      <th>Google Phone,Wired Headphones,Macbook Pro Laptop</th>\n",
       "      <th>34in Ultrawide Monitor,20in Monitor</th>\n",
       "      <th>Google Phone,USB-C Charging Cable,Wired Headphones,27in FHD Monitor</th>\n",
       "      <th>34in Ultrawide Monitor,LG Washing Machine</th>\n",
       "      <th>iPhone,iPhone</th>\n",
       "      <th>Google Phone,27in 4K Gaming Monitor</th>\n",
       "      <th>LG Washing Machine,iPhone</th>\n",
       "      <th>LG Dryer,Wired Headphones</th>\n",
       "      <th>iPhone,Lightning Charging Cable,34in Ultrawide Monitor</th>\n",
       "      <th>Google Phone,Bose SoundSport Headphones,27in FHD Monitor</th>\n",
       "    </tr>\n",
       "  </thead>\n",
       "  <tbody>\n",
       "    <tr>\n",
       "      <th>1</th>\n",
       "      <td>3</td>\n",
       "      <td>312</td>\n",
       "      <td>28</td>\n",
       "      <td>882</td>\n",
       "      <td>23</td>\n",
       "      <td>18</td>\n",
       "      <td>24</td>\n",
       "      <td>31</td>\n",
       "      <td>856</td>\n",
       "      <td>10</td>\n",
       "      <td>...</td>\n",
       "      <td>1</td>\n",
       "      <td>1</td>\n",
       "      <td>1</td>\n",
       "      <td>1</td>\n",
       "      <td>1</td>\n",
       "      <td>1</td>\n",
       "      <td>1</td>\n",
       "      <td>1</td>\n",
       "      <td>1</td>\n",
       "      <td>1</td>\n",
       "    </tr>\n",
       "  </tbody>\n",
       "</table>\n",
       "<p>1 rows × 366 columns</p>\n",
       "</div>"
      ],
      "text/plain": [
       "   Google Phone,USB-C Charging Cable,Bose SoundSport Headphones,Wired Headphones  \\\n",
       "1                                                  3                               \n",
       "\n",
       "   Vareebadd Phone,USB-C Charging Cable  \\\n",
       "1                                   312   \n",
       "\n",
       "   AA Batteries (4-pack),Bose SoundSport Headphones  \\\n",
       "1                                                28   \n",
       "\n",
       "   iPhone,Lightning Charging Cable  \\\n",
       "1                              882   \n",
       "\n",
       "   iPhone,Apple Airpods Headphones,Wired Headphones  \\\n",
       "1                                                23   \n",
       "\n",
       "   34in Ultrawide Monitor,Lightning Charging Cable  \\\n",
       "1                                               18   \n",
       "\n",
       "   Bose SoundSport Headphones,Wired Headphones  \\\n",
       "1                                           24   \n",
       "\n",
       "   USB-C Charging Cable,Apple Airpods Headphones  \\\n",
       "1                                             31   \n",
       "\n",
       "   Google Phone,USB-C Charging Cable  USB-C Charging Cable,20in Monitor  ...  \\\n",
       "1                                856                                 10  ...   \n",
       "\n",
       "   Google Phone,Wired Headphones,Macbook Pro Laptop  \\\n",
       "1                                                 1   \n",
       "\n",
       "   34in Ultrawide Monitor,20in Monitor  \\\n",
       "1                                    1   \n",
       "\n",
       "   Google Phone,USB-C Charging Cable,Wired Headphones,27in FHD Monitor  \\\n",
       "1                                                  1                     \n",
       "\n",
       "   34in Ultrawide Monitor,LG Washing Machine  iPhone,iPhone  \\\n",
       "1                                          1              1   \n",
       "\n",
       "   Google Phone,27in 4K Gaming Monitor  LG Washing Machine,iPhone  \\\n",
       "1                                    1                          1   \n",
       "\n",
       "   LG Dryer,Wired Headphones  \\\n",
       "1                          1   \n",
       "\n",
       "   iPhone,Lightning Charging Cable,34in Ultrawide Monitor  \\\n",
       "1                                                  1        \n",
       "\n",
       "   Google Phone,Bose SoundSport Headphones,27in FHD Monitor  \n",
       "1                                                  1         \n",
       "\n",
       "[1 rows x 366 columns]"
      ]
     },
     "metadata": {},
     "output_type": "display_data"
    },
    {
     "name": "stdout",
     "output_type": "stream",
     "text": [
      "iPhone,Lightning Charging Cable: 882\n"
     ]
    }
   ],
   "source": [
    "dic={}\n",
    "for i in df_['Products']:\n",
    "    if i not in dic:\n",
    "        dic[i]=1\n",
    "    else:\n",
    "        dic[i]+=1\n",
    "        \n",
    "prod_df = pd.DataFrame(dic, index=[1]) \n",
    "display(prod_df)\n",
    "# iphone/lighting cable, then Google Phone/USB-C charging cable\n",
    "\n",
    "for i, k in dic.items():\n",
    "    if k == max(dic.values()):\n",
    "        print(f'{i}: {k}')\n",
    "        \n",
    "## iphone, lighting charging cable was most bought together\n",
    "    "
   ]
  },
  {
   "cell_type": "markdown",
   "id": "f4ffee60",
   "metadata": {},
   "source": [
    "#### What product sold the most, and why do you think it sold the most?"
   ]
  },
  {
   "cell_type": "code",
   "execution_count": 253,
   "id": "a79a8c6b",
   "metadata": {},
   "outputs": [
    {
     "data": {
      "text/plain": [
       "<AxesSubplot:xlabel='Product', ylabel='Price Each'>"
      ]
     },
     "execution_count": 253,
     "metadata": {},
     "output_type": "execute_result"
    },
    {
     "data": {
      "image/png": "[encoded data removed]",
      "text/plain": [
       "<Figure size 432x288 with 2 Axes>"
      ]
     },
     "metadata": {
      "needs_background": "light"
     },
     "output_type": "display_data"
    }
   ],
   "source": [
    "# df['Product'].value_counts().reset_index()\n",
    "\n",
    "most_sold = df.groupby('Product')[['Product','Quantity Ordered','Sales']].sum().reset_index()\n",
    "most_sold.sort_values('Quantity Ordered',ascending=False)\n",
    "## AAA Batteries were most sold item, then AA batteries and so on... \n",
    "\n",
    "avg_price = df.groupby(\"Product\")['Price Each'].mean().reset_index()\n",
    "avg_price.sort_values('Product',ascending=False)\n",
    "\n",
    "\n",
    "plt.title(\"Product Order Distribution\")\n",
    "plt.xticks(rotation='vertical')\n",
    "\n",
    "sb.barplot(data=most_sold,x='Product',y='Quantity Ordered')\n",
    "ax2 = plt.twinx()\n",
    "sb.lineplot(data=most_sold,x='Product',y=avg_price['Price Each'],ax=ax2,color='black')\n",
    "\n",
    "## whenever quantitiy ordered is high, price should be low"
   ]
  }
 ],
 "metadata": {
  "kernelspec": {
   "display_name": "Python 3 (ipykernel)",
   "language": "python",
   "name": "python3"
  },
  "language_info": {
   "codemirror_mode": {
    "name": "ipython",
    "version": 3
   },
   "file_extension": ".py",
   "mimetype": "text/x-python",
   "name": "python",
   "nbconvert_exporter": "python",
   "pygments_lexer": "ipython3",
   "version": "3.8.10"
  }
 },
 "nbformat": 4,
 "nbformat_minor": 5
}
